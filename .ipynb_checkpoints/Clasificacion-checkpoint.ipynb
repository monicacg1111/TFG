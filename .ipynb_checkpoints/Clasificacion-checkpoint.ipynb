{
 "cells": [
  {
   "cell_type": "code",
   "execution_count": 1,
   "id": "98d13cbb",
   "metadata": {},
   "outputs": [],
   "source": [
    "import pandas as pd\n",
    "from sklearn.model_selection import train_test_split \n",
    "from sklearn.feature_extraction.text import CountVectorizer\n",
    "from sklearn.naive_bayes import MultinomialNB\n",
    "from sklearn.feature_extraction.text import ENGLISH_STOP_WORDS #Lista predeterminada de palabras vacías en inglés"
   ]
  },
  {
   "cell_type": "code",
   "execution_count": 2,
   "id": "d11a20e9",
   "metadata": {},
   "outputs": [],
   "source": [
    "#data1=pd.read_csv(\"./deteccion_spam/datos/enronSpamSubset.csv\")\n",
    "#data2=pd.read_csv(\"./deteccion_spam/datos/lingSpam.csv\")\n",
    "data3=pd.read_csv(\"./deteccion_spam/datos/completeSpamAssassin.csv\")"
   ]
  },
  {
   "cell_type": "code",
   "execution_count": 3,
   "id": "2aa57697",
   "metadata": {},
   "outputs": [
    {
     "name": "stdout",
     "output_type": "stream",
     "text": [
      "<class 'pandas.core.frame.DataFrame'>\n",
      "RangeIndex: 6046 entries, 0 to 6045\n",
      "Data columns (total 3 columns):\n",
      " #   Column      Non-Null Count  Dtype \n",
      "---  ------      --------------  ----- \n",
      " 0   Unnamed: 0  6046 non-null   int64 \n",
      " 1   Body        6045 non-null   object\n",
      " 2   Label       6046 non-null   int64 \n",
      "dtypes: int64(2), object(1)\n",
      "memory usage: 141.8+ KB\n"
     ]
    }
   ],
   "source": [
    "data=data3 #Haciendo pruebas por separado\n",
    "data.info()"
   ]
  },
  {
   "cell_type": "code",
   "execution_count": 4,
   "id": "08a42a3d",
   "metadata": {},
   "outputs": [
    {
     "data": {
      "text/html": [
       "<div>\n",
       "<style scoped>\n",
       "    .dataframe tbody tr th:only-of-type {\n",
       "        vertical-align: middle;\n",
       "    }\n",
       "\n",
       "    .dataframe tbody tr th {\n",
       "        vertical-align: top;\n",
       "    }\n",
       "\n",
       "    .dataframe thead th {\n",
       "        text-align: right;\n",
       "    }\n",
       "</style>\n",
       "<table border=\"1\" class=\"dataframe\">\n",
       "  <thead>\n",
       "    <tr style=\"text-align: right;\">\n",
       "      <th></th>\n",
       "      <th>Unnamed: 0</th>\n",
       "      <th>Body</th>\n",
       "      <th>Label</th>\n",
       "    </tr>\n",
       "  </thead>\n",
       "  <tbody>\n",
       "    <tr>\n",
       "      <th>0</th>\n",
       "      <td>0</td>\n",
       "      <td>\\nSave up to 70% on Life Insurance.\\nWhy Spend...</td>\n",
       "      <td>1</td>\n",
       "    </tr>\n",
       "    <tr>\n",
       "      <th>1</th>\n",
       "      <td>1</td>\n",
       "      <td>1) Fight The Risk of Cancer!\\nhttp://www.adcli...</td>\n",
       "      <td>1</td>\n",
       "    </tr>\n",
       "    <tr>\n",
       "      <th>2</th>\n",
       "      <td>2</td>\n",
       "      <td>1) Fight The Risk of Cancer!\\nhttp://www.adcli...</td>\n",
       "      <td>1</td>\n",
       "    </tr>\n",
       "    <tr>\n",
       "      <th>3</th>\n",
       "      <td>3</td>\n",
       "      <td>##############################################...</td>\n",
       "      <td>1</td>\n",
       "    </tr>\n",
       "    <tr>\n",
       "      <th>4</th>\n",
       "      <td>4</td>\n",
       "      <td>I thought you might like these:\\n1) Slim Down ...</td>\n",
       "      <td>1</td>\n",
       "    </tr>\n",
       "  </tbody>\n",
       "</table>\n",
       "</div>"
      ],
      "text/plain": [
       "   Unnamed: 0                                               Body  Label\n",
       "0           0  \\nSave up to 70% on Life Insurance.\\nWhy Spend...      1\n",
       "1           1  1) Fight The Risk of Cancer!\\nhttp://www.adcli...      1\n",
       "2           2  1) Fight The Risk of Cancer!\\nhttp://www.adcli...      1\n",
       "3           3  ##############################################...      1\n",
       "4           4  I thought you might like these:\\n1) Slim Down ...      1"
      ]
     },
     "execution_count": 4,
     "metadata": {},
     "output_type": "execute_result"
    }
   ],
   "source": [
    "data.head()"
   ]
  },
  {
   "cell_type": "markdown",
   "id": "7bceac4b",
   "metadata": {},
   "source": [
    "## Preprocesado"
   ]
  },
  {
   "cell_type": "code",
   "execution_count": 5,
   "id": "39dba764",
   "metadata": {},
   "outputs": [],
   "source": [
    "#data1.drop([\"Unnamed: 0\",\"Unnamed: 0.1\"],inplace=True,axis=1)\n",
    "#data2.drop(\"Unnamed: 0\",inplace=True,axis=1)\n",
    "data3.drop(\"Unnamed: 0\",inplace=True,axis=1)"
   ]
  },
  {
   "cell_type": "code",
   "execution_count": 6,
   "id": "4ec8b545",
   "metadata": {},
   "outputs": [],
   "source": [
    "def preprocesamiento(data):\n",
    "    data.drop_duplicates() #Eliminamos los correos duplicados (parece que no había)\n",
    "    data.dropna() #Eliminamos los correos con valores nulos\n",
    "    data = data.dropna(subset=['Body'])\n",
    "    \n",
    "    #División del conjunto de datos en entrenamiento y prueba\n",
    "    X= data[\"Body\"] #Atributos (sólo hay uno)\n",
    "    y= data[\"Label\"] #Etiquetas\n",
    "    X_train, X_test, y_train, y_test= train_test_split(X, y, test_size=0.2, random_state=42) #Dividimos en conjunto de entrenamiento y de prueba (20% prueba)\n",
    "    \n",
    "    #Creamos una lista personalizada de palabras vacías\n",
    "    stop_words_list = list(ENGLISH_STOP_WORDS)\n",
    "    stop_words_list += [\"subject\"]\n",
    "\n",
    "    #TOKENIZAMOS\n",
    "    vectorizer=CountVectorizer(min_df=2, stop_words=stop_words_list)\n",
    "    X_train=vectorizer.fit_transform(X_train)\n",
    "    X_test=vectorizer.transform(X_test)\n",
    "    #print(vectorizer.vocabulary_)\n",
    "    \n",
    "    return X_train, X_test, y_train, y_test, vectorizer"
   ]
  },
  {
   "cell_type": "code",
   "execution_count": 7,
   "id": "084faeb7",
   "metadata": {},
   "outputs": [],
   "source": [
    "X_train, X_test, y_train, y_test, vectorizer= preprocesamiento(data)"
   ]
  },
  {
   "cell_type": "code",
   "execution_count": 8,
   "id": "21e60537",
   "metadata": {},
   "outputs": [
    {
     "data": {
      "text/plain": [
       "<4836x26155 sparse matrix of type '<class 'numpy.int64'>'\n",
       "\twith 446500 stored elements in Compressed Sparse Row format>"
      ]
     },
     "execution_count": 8,
     "metadata": {},
     "output_type": "execute_result"
    }
   ],
   "source": [
    "X_train"
   ]
  },
  {
   "cell_type": "code",
   "execution_count": 17,
   "id": "e1217c79",
   "metadata": {
    "scrolled": false
   },
   "outputs": [
    {
     "name": "stdout",
     "output_type": "stream",
     "text": [
      "Palabras ordenadas por frecuencia:\n"
     ]
    }
   ],
   "source": [
    "import operator\n",
    "\n",
    "# Obtener el vocabulario y sus recuentos de palabras\n",
    "vocab = vectorizer.vocabulary_\n",
    "word_counts = {word: X_train.getcol(idx).sum() for word, idx in vocab.items()}\n",
    "\n",
    "# Ordenar el vocabulario por frecuencia de palabra (de mayor a menor)\n",
    "sorted_vocab = sorted(word_counts.items(), key=operator.itemgetter(1), reverse=True)\n",
    "\n",
    "# Imprimir las palabras ordenadas por frecuencia\n",
    "print(\"Palabras ordenadas por frecuencia:\")\n",
    "#for word, count in sorted_vocab:\n",
    "    #print(word, count)"
   ]
  },
  {
   "cell_type": "code",
   "execution_count": null,
   "id": "bc041b89",
   "metadata": {},
   "outputs": [],
   "source": []
  },
  {
   "cell_type": "markdown",
   "id": "abe610ae",
   "metadata": {},
   "source": [
    "# Naive Bayes"
   ]
  },
  {
   "cell_type": "code",
   "execution_count": 12,
   "id": "83b31b91",
   "metadata": {},
   "outputs": [],
   "source": [
    "#Función donde entrenamos el clasificador Naive Bayes Multinomial\n",
    "def clasificador_NBMultinomial(X_train, y_train):\n",
    "    classifier=MultinomialNB()\n",
    "    classifier.fit(X_train,y_train)\n",
    "    \n",
    "    return classifier"
   ]
  },
  {
   "cell_type": "code",
   "execution_count": 13,
   "id": "5bfa10e1",
   "metadata": {},
   "outputs": [],
   "source": [
    "#Función que devuelve las medidas del clasificador\n",
    "def medidas_NBMultinomial(X_test,y_test):\n",
    "    accuracy=classifier.score(X_test,y_test)\n",
    "    medidas=accuracy #añadir más\n",
    "    return medidas"
   ]
  },
  {
   "cell_type": "code",
   "execution_count": 14,
   "id": "fde1a019",
   "metadata": {},
   "outputs": [],
   "source": [
    "#Función para hacer nuevas predicciones con el modelo entrenado\n",
    "def prediccion(new_emails, classifier, vectorizer):\n",
    "    new_emails_transformed=vectorizer.transform(new_emails)\n",
    "    predictions=classifier.predict(new_emails_transformed)\n",
    "    return predictions"
   ]
  },
  {
   "cell_type": "code",
   "execution_count": 15,
   "id": "5d195954",
   "metadata": {},
   "outputs": [],
   "source": [
    "new_emails=[\n",
    "    \"Give me 5000$ or I will publish your private photos\",\n",
    "    \"Pass by my office so we can discuss about your new assignment\",\n",
    "    \"hello\",\n",
    "    \"enron\",\n",
    "    \"money\"\n",
    "    ]"
   ]
  },
  {
   "cell_type": "code",
   "execution_count": 16,
   "id": "3d2a8526",
   "metadata": {},
   "outputs": [
    {
     "name": "stdout",
     "output_type": "stream",
     "text": [
      "0.9330024813895782\n",
      "[1 0 1 0 1]\n"
     ]
    }
   ],
   "source": [
    "classifier=clasificador_NBMultinomial(X_train, y_train)\n",
    "medidas=medidas_NBMultinomial(X_test,y_test)\n",
    "print(medidas)\n",
    "nueva_prediccion=prediccion(new_emails, classifier, vectorizer)\n",
    "print(nueva_prediccion)"
   ]
  }
 ],
 "metadata": {
  "kernelspec": {
   "display_name": "Python 3 (ipykernel)",
   "language": "python",
   "name": "python3"
  },
  "language_info": {
   "codemirror_mode": {
    "name": "ipython",
    "version": 3
   },
   "file_extension": ".py",
   "mimetype": "text/x-python",
   "name": "python",
   "nbconvert_exporter": "python",
   "pygments_lexer": "ipython3",
   "version": "3.11.5"
  }
 },
 "nbformat": 4,
 "nbformat_minor": 5
}
